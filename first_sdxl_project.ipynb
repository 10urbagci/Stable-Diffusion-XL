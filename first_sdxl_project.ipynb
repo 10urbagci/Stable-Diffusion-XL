{
  "cells": [
    {
      "cell_type": "code",
      "execution_count": 25,
      "metadata": {
        "id": "zFsMuiMUHi31"
      },
      "outputs": [],
      "source": [
        "#install required libraries\n",
        "!pip install transformers accelerate safetensors invisible-watermark>=2.0 diffusers"
      ]
    },
    {
      "cell_type": "code",
      "execution_count": 26,
      "metadata": {
        "id": "wY6azaNginvB"
      },
      "outputs": [],
      "source": [
        "#Enter your token\n",
        "YOUR_HF_TOKEN = \"\""
      ]
    },
    {
      "cell_type": "markdown",
      "source": [
        "\n",
        "In order to use the SDXL model, you must first open a Hugging Face account, then click this link to accept the terms of use and fill in some information.\n",
        "https://huggingface.co/stabilityai/stable-diffusion-xl-base-0.9\n",
        "\n",
        "You need tokens to use this model. To do this, you can create a token by clicking this link. After clicking the New token button, enter a name, then select write in the role section, then click Generate a token. After these transactions, tokens will be created. You must have a Hugging Face account to be able to do this.\n",
        "https://huggingface.co/settings/tokens"
      ],
      "metadata": {
        "id": "4SwCFP1xGA74"
      }
    },
    {
      "cell_type": "code",
      "source": [
        "#import required library\n",
        "from diffusers import DiffusionPipeline\n",
        "import torch\n",
        "import gc"
      ],
      "metadata": {
        "id": "0QfJOiIWks4A"
      },
      "execution_count": 27,
      "outputs": []
    },
    {
      "cell_type": "code",
      "execution_count": 28,
      "metadata": {
        "id": "aWvfmopa9kBs"
      },
      "outputs": [],
      "source": [
        "#load sdxl-base-0.9 model\n",
        "model_base = \"stabilityai/stable-diffusion-xl-base-0.9\"\n",
        "\n",
        "pipe = DiffusionPipeline.from_pretrained(\n",
        "    model_base,\n",
        "    torch_dtype=torch.float16,\n",
        "    use_safetensors=True,\n",
        "    variant=\"fp16\",\n",
        "    use_auth_token=YOUR_HF_TOKEN,\n",
        "    )\n",
        "\n",
        "#If you are seeing out-of-memory errors use this.\n",
        "pipe.enable_model_cpu_offload()"
      ]
    },
    {
      "cell_type": "code",
      "execution_count": 29,
      "metadata": {
        "id": "kF6k6OYn9yNF"
      },
      "outputs": [],
      "source": [
        "#load sdxl-refiner-0.9 model\n",
        "model_refiner = \"stabilityai/stable-diffusion-xl-refiner-0.9\"\n",
        "\n",
        "pipe_refiner = DiffusionPipeline.from_pretrained(\n",
        "    model_refiner,\n",
        "    torch_dtype=torch.float16,\n",
        "    use_safetensors=True,\n",
        "    variant=\"fp16\",\n",
        "    use_auth_token=YOUR_HF_TOKEN,\n",
        "    )\n",
        "\n",
        "pipe_refiner.enable_model_cpu_offload()"
      ]
    },
    {
      "cell_type": "code",
      "execution_count": null,
      "metadata": {
        "id": "5Ar4xnWb96ck"
      },
      "outputs": [],
      "source": [
        "#Enter the parameters. The parameters are entirely up to you. By adjusting the parameter values, you can increase or decrease the quality of the image.\n",
        "def generate_images(prompt,negative_prompt):\n",
        "    image_base = pipe(\n",
        "        prompt=prompt,\n",
        "        negative_prompt=negative_prompt,\n",
        "        #height=768,\n",
        "        #width=768,\n",
        "        guidance_scale=9.0,\n",
        "        num_inference_steps=70,\n",
        "        eta = 0.2,\n",
        "    ).images[0]\n",
        "\n",
        "    image_refiner = pipe_refiner(\n",
        "        prompt=prompt,\n",
        "        negative_prompt = negative_prompt,\n",
        "        #height=768,\n",
        "        #width=768,\n",
        "        image=image_base,\n",
        "        num_inference_steps=70,\n",
        "        strength=0.5,\n",
        "        eta = 0.2,\n",
        "    ).images[0]\n",
        "\n",
        "    gc.collect()\n",
        "    torch.cuda.empty_cache()\n",
        "\n",
        "    return image_base, image_refiner\n",
        "\n",
        "#Enter your prompt and negative_prompt\n",
        "def print_image():\n",
        "\n",
        "  prompt = \"(colorful bird posing with extreme glowing colors:1. 8), (Sigma 85mm f/1. 4:0. 7), intricate, elegant, highly detailed, digital painting, artstation, concept art, smooth, sharp focus, illustration, art by krenz cushart and artem demura and alphonse mucha\"\n",
        "  negative_prompt = \"incorrect proportions, ugly background, human, boring, three feet, crooked beak, out of frame, cartoon, sketch, painting, crossed eyes, (worst quality:2), (low quality:2), (normal quality:2), lowres, bad anatomy, normal quality, ((monochrome)), two beaks, words, signature, text, over exposure,two face , two head, two bird\"\n",
        "\n",
        "  base_image, refined_image = generate_images(prompt, negative_prompt)\n",
        "\n",
        "  #Save images\n",
        "  base_image.save(\"base_imag.jpeg\")\n",
        "  refined_image.save(\"refined_image.jpeg\")\n",
        "\n",
        "print_image()\n",
        "\n"
      ]
    },
    {
      "cell_type": "markdown",
      "source": [
        "https://huggingface.co/docs/diffusers/api/pipelines/stable_diffusion/stable_diffusion_xl"
      ],
      "metadata": {
        "id": "CQqwow_NWg_y"
      }
    }
  ],
  "metadata": {
    "colab": {
      "machine_shape": "hm",
      "provenance": [],
      "gpuType": "T4"
    },
    "kernelspec": {
      "display_name": "Python 3",
      "name": "python3"
    },
    "language_info": {
      "name": "python"
    },
    "accelerator": "GPU"
  },
  "nbformat": 4,
  "nbformat_minor": 0
}